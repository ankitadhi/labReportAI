{
 "cells": [
  {
   "cell_type": "code",
   "execution_count": 9,
   "metadata": {},
   "outputs": [],
   "source": [
    "import numpy as np\n",
    "import matplotlib.pyplot as plt"
   ]
  },
  {
   "cell_type": "code",
   "execution_count": 10,
   "metadata": {},
   "outputs": [
    {
     "name": "stdout",
     "output_type": "stream",
     "text": [
      "[0.   0.02 0.04 0.06 0.08 0.1  0.12 0.14 0.16 0.18] [0.3   0.314 0.328 0.342 0.356 0.37  0.384 0.398 0.412 0.426]\n",
      "(50,) (50,)\n"
     ]
    }
   ],
   "source": [
    "m=0.7\n",
    "c=0.3\n",
    "X=np.arange(0,1,0.02)\n",
    "y=m*X+c\n",
    "print(X[:10], y[:10])\n",
    "print(X.shape, y.shape)"
   ]
  },
  {
   "cell_type": "code",
   "execution_count": 11,
   "metadata": {},
   "outputs": [],
   "source": [
    "split = int(0.8*len(X))\n",
    "X_train,y_train = X[:split], y[:split]\n",
    "X_test,y_test = X[split:], y[split:]"
   ]
  },
  {
   "cell_type": "code",
   "execution_count": 13,
   "metadata": {},
   "outputs": [
    {
     "data": {
      "image/png": "[encoded data removed]",
      "text/plain": [
       "<Figure size 800x600 with 1 Axes>"
      ]
     },
     "metadata": {},
     "output_type": "display_data"
    }
   ],
   "source": [
    "def plot_data(X_train=X_train, y_train=y_train, X_test=X_test, y_test=y_test, predictions = None):\n",
    "    plt.figure(figsize=(8,6))\n",
    "    plt.scatter(X_train, y_train, c='b', s=8, label='Training Data')\n",
    "    plt.scatter(X_test, y_test, c='r', s=8, label='Test Data')\n",
    "    if predictions is not None:\n",
    "        plt.scatter(X_test, predictions, c='g',label='Predicted data')\n",
    "    plt.legend()\n",
    "\n",
    "plot_data()\n",
    "\n"
   ]
  },
  {
   "cell_type": "code",
   "execution_count": 15,
   "metadata": {},
   "outputs": [
    {
     "name": "stdout",
     "output_type": "stream",
     "text": [
      "[0.77628985] [-0.80024086]\n"
     ]
    }
   ],
   "source": [
    "W= np.random.randn(1)\n",
    "b= np.random.randn(1)\n",
    "print(W, b)\n"
   ]
  },
  {
   "cell_type": "code",
   "execution_count": 17,
   "metadata": {},
   "outputs": [],
   "source": [
    "def loss_fn(y_actual ,y_predictions):\n",
    "    return (np.sum(np.square((y_actual-y_predictions)))/len(y_actual))"
   ]
  },
  {
   "cell_type": "code",
   "execution_count": null,
   "metadata": {},
   "outputs": [],
   "source": [
    "lr = 0.1\n",
    "epochs = 300\n",
    "train_loss_values = []\n",
    "test_loss_values = []\n",
    "for epoch in range(epochs):\n",
    "    #forward pass\n",
    "    y_pred = X_train*W+b\n",
    "\n",
    "    train_loss = loss_fn(y_actual=y_train, y_predictions=y_pred)\n",
    "    train_loss_values.append(train_loss)\n",
    "\n",
    "    gradientW =(-2*np.sum((y_train-y_pred)*X_train)/len(y_pred))\n",
    "    gradientb = (-2*np.sum((y_train-y_pred))/len(y_pred))\n",
    "\n",
    "\n",
    "    W = W-lr*gradientW\n",
    "    b = b-lr*gradientb\n",
    "\n",
    "    test_pred = X_test*W+b\n",
    "    test_loss = loss_fn(y_actual=y_test, y_predictions = test_pred)\n",
    "    test_loss_values.append(test_loss)\n",
    "\n",
    "    if epoch%10==0:\n",
    "        print(f\"Epoch: {epoch}\")\n",
    "\n"
   ]
  }
 ],
 "metadata": {
  "kernelspec": {
   "display_name": "Python 3 (ipykernel)",
   "language": "python",
   "name": "python3"
  }
 },
 "nbformat": 4,
 "nbformat_minor": 2
}
